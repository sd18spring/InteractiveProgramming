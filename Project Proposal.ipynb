{
 "cells": [
  {
   "cell_type": "markdown",
   "metadata": {},
   "source": [
    "Project Proposal\n",
    "\n",
    "For our project we will create a standard calculator snake game, where the snake has to capture a mouse and its movement is controlled by arrow keys. The snake must not contact its own body or the boundary. \n",
    "\n",
    "Junwon's learning goal: Get familiar with pair programming and Pygame.\n",
    "\n",
    "Cusai's learning goal: Get familiar with creating user interfacing interactive elements\n",
    "\n",
    "Libraries that will be used: Pygame. More libraries will be used if needed.\n",
    "\n",
    "By the mid-project check in, we will try to create the frame of the game, where it will contain the space that contains the space, the \"mouse,\" and the snake. We will create classes that generate these figures, but we probably won't figure out the game mechanics by then (movement of snake, catching the \"mouse\", etc).\n",
    "\n",
    "The biggest risk is working on Github with someone else before. We hope that we don't have merge conflicts with the program and drag us from working on this project. "
   ]
  }
 ],
 "metadata": {
  "kernelspec": {
   "display_name": "Python 3",
   "language": "python",
   "name": "python3"
  },
  "language_info": {
   "codemirror_mode": {
    "name": "ipython",
    "version": 3
   },
   "file_extension": ".py",
   "mimetype": "text/x-python",
   "name": "python",
   "nbconvert_exporter": "python",
   "pygments_lexer": "ipython3",
   "version": "3.6.3"
  }
 },
 "nbformat": 4,
 "nbformat_minor": 2
}
