{
 "cells": [
  {
   "cell_type": "markdown",
   "metadata": {},
   "source": [
    "    Our main idea is to create a two-player pong game with hand gestures as the main way of playing. We will explore OpenCV and try to implement gesture recognition so it can serve as the main controller for the game. Our minimum viable will be designing the game interface and getting the gesture recognition to successfully detect gestures so the components of the game will all work individually. Our stretch goal would be 3D pong. \n",
    "    Anna's Learning Goal: I want to become more familiar with pygame and explore OpenCV's capabilities in depth.\n",
    "    Shyheim's Learning Goal: I want to design something that is nastolgic through pygame and learn to peer program more.\n",
    "    We plan on using Pygame library for one and the OpenCV library, we do not know how to use them yet but we plan on exploring their differnt abilities. We want to use OpenCV in order to use the camera to recognize hand gestures while using pygame to actually design the game.\n",
    "    We want to get the layout of the game working and have it working with the mouse and/or keyboard commands.\n",
    "    The biggest risk we may face is taking on too much in the amount of time we have or trying to figure out OpenCV since neither of us have any experience with it."
   ]
  },
  {
   "cell_type": "code",
   "execution_count": null,
   "metadata": {
    "collapsed": true
   },
   "outputs": [],
   "source": []
  }
 ],
 "metadata": {
  "kernelspec": {
   "display_name": "Python 3",
   "language": "python",
   "name": "python3"
  },
  "language_info": {
   "codemirror_mode": {
    "name": "ipython",
    "version": 3
   },
   "file_extension": ".py",
   "mimetype": "text/x-python",
   "name": "python",
   "nbconvert_exporter": "python",
   "pygments_lexer": "ipython3",
   "version": "3.6.3"
  }
 },
 "nbformat": 4,
 "nbformat_minor": 2
}
