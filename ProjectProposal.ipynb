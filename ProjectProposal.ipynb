{
 "cells": [
  {
   "cell_type": "markdown",
   "metadata": {},
   "source": [
    "Your proposal document should address:\n",
    "\n",
    "What is the main idea of your project? What topics will you explore and what will you generate? What is your minimum viable product? What is a stretch goal?\n",
    "What are your learning goals for this project (for each member)?\n",
    "What libraries are you planning to use? (if you don’t know enough yet, please outline how you will decide this question during the beginning phase of the project).\n",
    "What do you plan to accomplish by the mid-project check-in? (See below for some generic goals; edit to suit your particular project)\n",
    "What do you view as the biggest risks to you being successful on this project?\n"
   ]
  },
  {
   "cell_type": "markdown",
   "metadata": {},
   "source": [
    "________________________________________________________________\n",
    "\n",
    "Main Idea: Scrolling world game (think simplified Super Mario Bros)\n",
    "Minimal Viable Product: Game with platforms and ground to jump/move around. Ends when reach finish line. \n",
    "Stretch goal: Good graphics, sprite animation, many types of platforms, moving enemies, multiple outcomes\n",
    "\n",
    "Learning goals:\n",
    "\n",
    "Both of us have used Pygame before. Chase's learning goal is to better understand how to better optimize and simplify the code. Erika's goal is similar; she also wants to understand Github a little better. \n",
    "\n",
    "We hope to have a better idea of the scope of our project (MVP vs stretch goal) by out mid-project check_in.\n",
    "\n",
    "We think our biggest risk is getting caught up in coding problems and running out of time. "
   ]
  }
 ],
 "metadata": {
  "kernelspec": {
   "display_name": "Python 3",
   "language": "python",
   "name": "python3"
  },
  "language_info": {
   "codemirror_mode": {
    "name": "ipython",
    "version": 3
   },
   "file_extension": ".py",
   "mimetype": "text/x-python",
   "name": "python",
   "nbconvert_exporter": "python",
   "pygments_lexer": "ipython3",
   "version": "3.6.3"
  }
 },
 "nbformat": 4,
 "nbformat_minor": 2
}
