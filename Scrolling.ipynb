{
 "cells": [
  {
   "cell_type": "code",
   "execution_count": null,
   "metadata": {
    "collapsed": true
   },
   "outputs": [],
   "source": [
    "\n",
    "import pygame\n",
    "import PIL\n",
    "\n",
    "class Main:\n",
    "\n",
    "\n",
    "    def __init__(self, width=640,height=480):\n",
    "        pygame.init()\n",
    "        self.width = width\n",
    "        self.height = height\n",
    "        self.screen = pygame.display.set_mode((self.width, self.height))\n",
    "\n",
    "    def MainLoop(self):\n",
    "        while 1:\n",
    "            for event in pygame.event.get():\n",
    "                if event.type == pygame.QUIT:\n",
    "                    sys.exit()\n",
    "\n",
    "\n",
    "\n",
    "class Background():\n",
    "    def __init__(self):\n",
    "        self.bgimage = pygame.image.load('images/backgroundtest.png')\n",
    "        self.bgX1 = 0\n",
    "\n",
    "        self.bgY2 = self.bgimage.get_height()\n",
    "        self.bgX2 = 0\n",
    "\n",
    "        self.movingUpSpeed = 2\n",
    "\n",
    "    def update(self):\n",
    "        self.bgY1 -= self.movingUpSpeed\n",
    "        self.bgY2 -= self.movingUpSpeed\n",
    "        if self.bgY1 <= -self.rectBGimg.height:\n",
    "            self.bgY1 = self.rectBGimg.height\n",
    "        if self.bgY2 <= -self.rectBGimg.height:\n",
    "            self.bgY2 = self.rectBGimg.height\n",
    "\n",
    "    def render(self):\n",
    "        surface.blit(self.bgimage, (self.bgX1, self.bgY1))\n",
    "        surface.blit(self.bgimage, (self.bgX2, self.bgY2))\n",
    "\n",
    "\n",
    "if __name__ == \"__main__\":\n",
    "    MainWindow = Main()\n",
    "    MainWindow.MainLoop()"
   ]
  }
 ],
 "metadata": {
  "kernelspec": {
   "display_name": "Python 3",
   "language": "python",
   "name": "python3"
  },
  "language_info": {
   "codemirror_mode": {
    "name": "ipython",
    "version": 3
   },
   "file_extension": ".py",
   "mimetype": "text/x-python",
   "name": "python",
   "nbconvert_exporter": "python",
   "pygments_lexer": "ipython3",
   "version": "3.6.3"
  }
 },
 "nbformat": 4,
 "nbformat_minor": 2
}
